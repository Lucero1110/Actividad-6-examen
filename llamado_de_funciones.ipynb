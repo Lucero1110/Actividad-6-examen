{
 "cells": [
  {
   "cell_type": "code",
   "execution_count": 5,
   "metadata": {},
   "outputs": [],
   "source": [
    "#Importamos las librerias pandas, numpy y matplotlib respectivamente\n",
    "import pandas as pd\n",
    "import numpy as np\n",
    "import matplotlib.pyplot as plt\n",
    "import os\n",
    "import funciones as f"
   ]
  },
  {
   "cell_type": "code",
   "execution_count": 6,
   "metadata": {},
   "outputs": [
    {
     "name": "stdout",
     "output_type": "stream",
     "text": [
      "<class 'pandas.core.frame.DataFrame'>\n",
      "RangeIndex: 14642 entries, 0 to 14641\n",
      "Data columns (total 51 columns):\n",
      " #   Column                                        Non-Null Count  Dtype  \n",
      "---  ------                                        --------------  -----  \n",
      " 0   Unnamed: 0                                    14642 non-null  int64  \n",
      " 1   id                                            14642 non-null  int64  \n",
      " 2   last_scraped                                  14642 non-null  object \n",
      " 3   source                                        14642 non-null  object \n",
      " 4   host_id                                       14642 non-null  int64  \n",
      " 5   host_response_time                            12903 non-null  object \n",
      " 6   host_response_rate                            12903 non-null  object \n",
      " 7   host_acceptance_rate                          13811 non-null  object \n",
      " 8   host_is_superhost                             13868 non-null  object \n",
      " 9   host_listings_count                           14642 non-null  int64  \n",
      " 10  host_total_listings_count                     14642 non-null  int64  \n",
      " 11  host_verifications                            14642 non-null  object \n",
      " 12  neighbourhood                                 7698 non-null   object \n",
      " 13  latitude                                      14642 non-null  float64\n",
      " 14  longitude                                     14642 non-null  float64\n",
      " 15  property_type                                 14642 non-null  object \n",
      " 16  room_type                                     14642 non-null  object \n",
      " 17  accommodates                                  14642 non-null  int64  \n",
      " 18  bathrooms                                     13717 non-null  float64\n",
      " 19  bedrooms                                      14559 non-null  float64\n",
      " 20  beds                                          13693 non-null  float64\n",
      " 21  amenities                                     14642 non-null  object \n",
      " 22  price                                         13722 non-null  object \n",
      " 23  minimum_nights                                14642 non-null  int64  \n",
      " 24  maximum_nights                                14642 non-null  int64  \n",
      " 25  minimum_minimum_nights                        14642 non-null  int64  \n",
      " 26  maximum_minimum_nights                        14642 non-null  int64  \n",
      " 27  minimum_maximum_nights                        14642 non-null  int64  \n",
      " 28  maximum_maximum_nights                        14642 non-null  int64  \n",
      " 29  minimum_nights_avg_ntm                        14642 non-null  float64\n",
      " 30  maximum_nights_avg_ntm                        14642 non-null  float64\n",
      " 31  availability_30                               14642 non-null  int64  \n",
      " 32  availability_60                               14642 non-null  int64  \n",
      " 33  availability_90                               14642 non-null  int64  \n",
      " 34  availability_365                              14642 non-null  int64  \n",
      " 35  number_of_reviews                             14642 non-null  int64  \n",
      " 36  number_of_reviews_ltm                         14642 non-null  int64  \n",
      " 37  number_of_reviews_l30d                        14642 non-null  int64  \n",
      " 38  review_scores_rating                          12329 non-null  float64\n",
      " 39  review_scores_accuracy                        12329 non-null  float64\n",
      " 40  review_scores_cleanliness                     12329 non-null  float64\n",
      " 41  review_scores_checkin                         12329 non-null  float64\n",
      " 42  review_scores_communication                   12329 non-null  float64\n",
      " 43  review_scores_location                        12329 non-null  float64\n",
      " 44  review_scores_value                           12329 non-null  float64\n",
      " 45  license                                       14448 non-null  object \n",
      " 46  calculated_host_listings_count                14642 non-null  int64  \n",
      " 47  calculated_host_listings_count_entire_homes   14642 non-null  int64  \n",
      " 48  calculated_host_listings_count_private_rooms  14642 non-null  int64  \n",
      " 49  calculated_host_listings_count_shared_rooms   14642 non-null  int64  \n",
      " 50  reviews_per_month                             12329 non-null  float64\n",
      "dtypes: float64(15), int64(23), object(13)\n",
      "memory usage: 5.7+ MB\n"
     ]
    }
   ],
   "source": [
    "df = f.cargar_dataset('Athenas_Grecia_Dt.csv')\n",
    "df.info()"
   ]
  },
  {
   "cell_type": "code",
   "execution_count": 7,
   "metadata": {},
   "outputs": [
    {
     "ename": "AttributeError",
     "evalue": "'list' object has no attribute 'fillna'",
     "output_type": "error",
     "traceback": [
      "\u001b[1;31m---------------------------------------------------------------------------\u001b[0m",
      "\u001b[1;31mAttributeError\u001b[0m                            Traceback (most recent call last)",
      "Cell \u001b[1;32mIn[7], line 1\u001b[0m\n\u001b[1;32m----> 1\u001b[0m \u001b[43mf\u001b[49m\u001b[38;5;241;43m.\u001b[39;49m\u001b[43mcuenta_nulos\u001b[49m\u001b[43m(\u001b[49m\u001b[43mdf\u001b[49m\u001b[43m)\u001b[49m\n",
      "File \u001b[1;32mc:\\Users\\Lenovo\\OneDrive\\Escritorio\\Profe alfredo\\Examen\\funciones.py:35\u001b[0m, in \u001b[0;36mcuenta_nulos\u001b[1;34m(data)\u001b[0m\n\u001b[0;32m     33\u001b[0m         data[col] \u001b[38;5;241m=\u001b[39m data[col]\u001b[38;5;241m.\u001b[39mfillna(\u001b[38;5;241m99\u001b[39m)\n\u001b[0;32m     34\u001b[0m \u001b[38;5;28;01melse\u001b[39;00m:\n\u001b[1;32m---> 35\u001b[0m     data[col] \u001b[38;5;241m=\u001b[39m \u001b[43m[\u001b[49m\u001b[43mcol\u001b[49m\u001b[43m]\u001b[49m\u001b[38;5;241;43m.\u001b[39;49m\u001b[43mfillna\u001b[49m(\u001b[38;5;124m\"\u001b[39m\u001b[38;5;124mEste_es_un_valor_nulo\u001b[39m\u001b[38;5;124m\"\u001b[39m)\n\u001b[0;32m     37\u001b[0m \u001b[38;5;28;01mreturn\u001b[39;00m data\n",
      "\u001b[1;31mAttributeError\u001b[0m: 'list' object has no attribute 'fillna'"
     ]
    }
   ],
   "source": [
    "f.cuenta_nulos(df)"
   ]
  },
  {
   "cell_type": "code",
   "execution_count": null,
   "metadata": {},
   "outputs": [],
   "source": []
  }
 ],
 "metadata": {
  "kernelspec": {
   "display_name": "Python 3",
   "language": "python",
   "name": "python3"
  },
  "language_info": {
   "codemirror_mode": {
    "name": "ipython",
    "version": 3
   },
   "file_extension": ".py",
   "mimetype": "text/x-python",
   "name": "python",
   "nbconvert_exporter": "python",
   "pygments_lexer": "ipython3",
   "version": "3.13.2"
  }
 },
 "nbformat": 4,
 "nbformat_minor": 2
}
